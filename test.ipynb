{
 "cells": [
  {
   "cell_type": "code",
   "execution_count": null,
   "metadata": {},
   "outputs": [],
   "source": [
    "import numpy as np\n",
    "import scipy.sparse as sp\n",
    "import scipy.sparse.linalg as lg\n",
    "\n",
    "import twodim_advection\n",
    "from twodim_advection import advection_2D\n",
    "\n",
    "\n",
    "###### Plotting\n",
    "import matplotlib.pyplot as plt\n",
    "plt.ion()"
   ]
  },
  {
   "cell_type": "code",
   "execution_count": null,
   "metadata": {},
   "outputs": [],
   "source": [
    "field = advection_2D(xmin=0, xmax= 1, ymin=0, ymax=1, NX=102, NY= 100, dt=0.0001)\n",
    "xxi, yyi = field.meshgrid_2D()"
   ]
  },
  {
   "cell_type": "code",
   "execution_count": null,
   "metadata": {},
   "outputs": [],
   "source": [
    "## initializing scalar field q0 and velocity field (U,V) at t0\n",
    "x0 = 0.5\n",
    "y0 = 0.75\n",
    "r0 = 0.2\n",
    "\n",
    "r_xy = (np.sqrt((xxi-x0)**2 + (yyi - y0)**2)) / r0\n",
    "r_xy[r_xy > 1] = 1\n",
    "\n",
    "q0 = np.zeros((field.NY, field.NX))\n",
    "q0[1:-1, 1:-1] = (1 + np.cos(np.pi * r_xy)) / 4\n",
    "\n",
    "U = np.zeros((field.NY, field.NX))\n",
    "V = np.zeros((field.NY, field.NX)) \n",
    "\n",
    "U[1:-1, 1:-1] = (np.sin(np.pi*xxi))**2 * np.sin(2*np.pi*yyi)\n",
    "V[1:-1, 1:-1] = - (np.sin(np.pi*yyi))**2 * np.sin(2*np.pi*xxi)\n"
   ]
  },
  {
   "cell_type": "code",
   "execution_count": null,
   "metadata": {},
   "outputs": [],
   "source": [
    "nitermax = int(10001)\n",
    "t = 0.\n",
    "q = q0.copy()\n",
    "\n",
    "for niter in range(nitermax):\n",
    "        \n",
    "    t += field.dt\n",
    "\n",
    "    ###### choose your favourite advection scheme here\n",
    "    q = field.LaxWendroff_vect(q, U, V)\n",
    "\n",
    "\n",
    "    if ((niter+1)%1000==0):\n",
    "        \n",
    "        ###### FIGURE draw works only if plt.ion()\n",
    "        plt.clf()\n",
    "        plt.title(\"initial\")\n",
    "        plt.pcolor(xxi,yyi,(q[1:-1,1:-1]))\n",
    "        plt.axis('image')\n",
    "        plt.draw()\n",
    "        plt.pause(0.001)\n",
    "\n"
   ]
  }
 ],
 "metadata": {
  "kernelspec": {
   "display_name": "base",
   "language": "python",
   "name": "python3"
  },
  "language_info": {
   "codemirror_mode": {
    "name": "ipython",
    "version": 3
   },
   "file_extension": ".py",
   "mimetype": "text/x-python",
   "name": "python",
   "nbconvert_exporter": "python",
   "pygments_lexer": "ipython3",
   "version": "3.9.12"
  },
  "orig_nbformat": 4,
  "vscode": {
   "interpreter": {
    "hash": "1a764bf7dce90d2064ec98c8eb2af12b527368ace4549f9ce6fdabc9745d4ee9"
   }
  }
 },
 "nbformat": 4,
 "nbformat_minor": 2
}
